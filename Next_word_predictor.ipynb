{
  "nbformat": 4,
  "nbformat_minor": 0,
  "metadata": {
    "colab": {
      "provenance": [],
      "gpuType": "T4",
      "mount_file_id": "1PK7PUmKzLm556qEPhwWNHaN7X4c3xUtB",
      "authorship_tag": "ABX9TyPm9ArKRJb/o3yr3YCLOwDH",
      "include_colab_link": true
    },
    "kernelspec": {
      "name": "python3",
      "display_name": "Python 3"
    },
    "language_info": {
      "name": "python"
    },
    "accelerator": "GPU"
  },
  "cells": [
    {
      "cell_type": "markdown",
      "metadata": {
        "id": "view-in-github",
        "colab_type": "text"
      },
      "source": [
        "<a href=\"https://colab.research.google.com/github/rocket0l4/Text_generator/blob/main/Next_word_predictor.ipynb\" target=\"_parent\"><img src=\"https://colab.research.google.com/assets/colab-badge.svg\" alt=\"Open In Colab\"/></a>"
      ]
    },
    {
      "cell_type": "markdown",
      "source": [
        "#Uploading Dataset and Opening"
      ],
      "metadata": {
        "id": "p_6I6wsf1g7p"
      }
    },
    {
      "cell_type": "code",
      "execution_count": 2,
      "metadata": {
        "id": "wqJ_KGLxZsV-"
      },
      "outputs": [],
      "source": [
        "file = open(\"/content/drive/MyDrive/This biographical article related two.txt\", \"r\")\n",
        "content = file.read()\n",
        "# print(content)\n",
        "file.close()\n",
        "box =[]\n",
        "box = content"
      ]
    },
    {
      "cell_type": "markdown",
      "source": [
        "#Tokenization"
      ],
      "metadata": {
        "id": "h9RL-JF71boS"
      }
    },
    {
      "cell_type": "code",
      "source": [
        "import tensorflow as tf\n",
        "import numpy as np\n",
        "from tensorflow.keras.preprocessing.text import Tokenizer"
      ],
      "metadata": {
        "id": "Vl-SLuewaLcv"
      },
      "execution_count": 3,
      "outputs": []
    },
    {
      "cell_type": "code",
      "source": [
        "tokenizer = Tokenizer()"
      ],
      "metadata": {
        "id": "fOJqICJ2aTI4"
      },
      "execution_count": 4,
      "outputs": []
    },
    {
      "cell_type": "code",
      "source": [
        "tokenizer.fit_on_texts([box])"
      ],
      "metadata": {
        "id": "Itn2I5GAaVKT"
      },
      "execution_count": 5,
      "outputs": []
    },
    {
      "cell_type": "code",
      "source": [
        "len(tokenizer.word_index)"
      ],
      "metadata": {
        "colab": {
          "base_uri": "https://localhost:8080/"
        },
        "id": "BLxK0FGraYEk",
        "outputId": "ad3a2778-09a8-42e0-b36f-0c8cfbbf307c"
      },
      "execution_count": 6,
      "outputs": [
        {
          "output_type": "execute_result",
          "data": {
            "text/plain": [
              "13928"
            ]
          },
          "metadata": {},
          "execution_count": 6
        }
      ]
    },
    {
      "cell_type": "code",
      "source": [
        "input_sequences = []\n",
        "for sentence in box.split('\\n'):\n",
        "  tokenized_sentence = tokenizer.texts_to_sequences([sentence])[0]\n",
        "\n",
        "  for i in range(1,len(tokenized_sentence)):\n",
        "    input_sequences.append(tokenized_sentence[:i+1])"
      ],
      "metadata": {
        "id": "P8ne29WeaZvE"
      },
      "execution_count": 7,
      "outputs": []
    },
    {
      "cell_type": "code",
      "source": [
        "max_len = max([len(x) for x in input_sequences])"
      ],
      "metadata": {
        "id": "0tHgEX9Qadw8"
      },
      "execution_count": 9,
      "outputs": []
    },
    {
      "cell_type": "code",
      "source": [
        "from tensorflow.keras.preprocessing.sequence import pad_sequences\n",
        "padded_input_sequences = pad_sequences(input_sequences, maxlen = max_len, padding='pre')"
      ],
      "metadata": {
        "id": "OPM4vLJWahh8"
      },
      "execution_count": 10,
      "outputs": []
    },
    {
      "cell_type": "code",
      "source": [
        "padded_input_sequences"
      ],
      "metadata": {
        "colab": {
          "base_uri": "https://localhost:8080/"
        },
        "id": "T_y5YE5dajL-",
        "outputId": "2f8579a6-68e2-4dc5-e4df-3c21288dc2d8"
      },
      "execution_count": 27,
      "outputs": [
        {
          "output_type": "execute_result",
          "data": {
            "text/plain": [
              "array([[    0,     0,     0, ...,     0,    21,   302],\n",
              "       [    0,     0,     0, ...,    21,   302,    68],\n",
              "       [    0,     0,     0, ...,   302,    68,   353],\n",
              "       ...,\n",
              "       [    0,     0,     0, ..., 13928,  1230,    51],\n",
              "       [    0,     0,     0, ...,  1230,    51,    23],\n",
              "       [    0,     0,     0, ...,    51,    23,    30]], dtype=int32)"
            ]
          },
          "metadata": {},
          "execution_count": 27
        }
      ]
    },
    {
      "cell_type": "code",
      "source": [
        "X = padded_input_sequences[:,:-1]"
      ],
      "metadata": {
        "id": "oFRJJVeYak5x"
      },
      "execution_count": 12,
      "outputs": []
    },
    {
      "cell_type": "code",
      "source": [
        "y = padded_input_sequences[:,-1]"
      ],
      "metadata": {
        "id": "hed-6N7canjj"
      },
      "execution_count": 13,
      "outputs": []
    },
    {
      "cell_type": "code",
      "source": [
        "X.shape"
      ],
      "metadata": {
        "colab": {
          "base_uri": "https://localhost:8080/"
        },
        "id": "RKbz3nN-apY3",
        "outputId": "f1f2e66e-5bf3-409b-96e6-86dd3c8e9700"
      },
      "execution_count": 14,
      "outputs": [
        {
          "output_type": "execute_result",
          "data": {
            "text/plain": [
              "(85115, 97)"
            ]
          },
          "metadata": {},
          "execution_count": 14
        }
      ]
    },
    {
      "cell_type": "code",
      "source": [
        "y.shape"
      ],
      "metadata": {
        "colab": {
          "base_uri": "https://localhost:8080/"
        },
        "id": "84yN_VRCaq-W",
        "outputId": "760ced84-b405-4b89-d3a6-8da495748ad0"
      },
      "execution_count": 15,
      "outputs": [
        {
          "output_type": "execute_result",
          "data": {
            "text/plain": [
              "(85115,)"
            ]
          },
          "metadata": {},
          "execution_count": 15
        }
      ]
    },
    {
      "cell_type": "markdown",
      "source": [
        "#Model Train"
      ],
      "metadata": {
        "id": "tDzF7F_L1TdC"
      }
    },
    {
      "cell_type": "code",
      "source": [
        "from tensorflow.keras.utils import to_categorical\n",
        "y = to_categorical(y,num_classes=13929)"
      ],
      "metadata": {
        "id": "JKlAlLIjaslj"
      },
      "execution_count": 16,
      "outputs": []
    },
    {
      "cell_type": "code",
      "source": [
        "from tensorflow.keras.models import Sequential\n",
        "from tensorflow.keras.layers import Embedding, LSTM, Dense"
      ],
      "metadata": {
        "id": "chqujaCDa1GG"
      },
      "execution_count": 17,
      "outputs": []
    },
    {
      "cell_type": "code",
      "source": [
        "model = Sequential()\n",
        "model.add(Embedding(13929, 800, input_length=97))\n",
        "model.add(LSTM(400))\n",
        "# model.add(LSTM(150))\n",
        "model.add(Dense(13929, activation='softmax'))"
      ],
      "metadata": {
        "id": "PvTUgVNDa2rA"
      },
      "execution_count": 18,
      "outputs": []
    },
    {
      "cell_type": "code",
      "source": [
        "model.compile(loss='categorical_crossentropy', optimizer='adam',metrics=['accuracy'])"
      ],
      "metadata": {
        "id": "pTw4ngotbH-H"
      },
      "execution_count": 19,
      "outputs": []
    },
    {
      "cell_type": "code",
      "source": [
        "model.summary()"
      ],
      "metadata": {
        "colab": {
          "base_uri": "https://localhost:8080/"
        },
        "id": "YfpU3IflbK4N",
        "outputId": "ba968a2e-4dca-42a9-8405-40c630ef422f"
      },
      "execution_count": 20,
      "outputs": [
        {
          "output_type": "stream",
          "name": "stdout",
          "text": [
            "Model: \"sequential\"\n",
            "_________________________________________________________________\n",
            " Layer (type)                Output Shape              Param #   \n",
            "=================================================================\n",
            " embedding (Embedding)       (None, 97, 800)           11143200  \n",
            "                                                                 \n",
            " lstm (LSTM)                 (None, 400)               1921600   \n",
            "                                                                 \n",
            " dense (Dense)               (None, 13929)             5585529   \n",
            "                                                                 \n",
            "=================================================================\n",
            "Total params: 18650329 (71.15 MB)\n",
            "Trainable params: 18650329 (71.15 MB)\n",
            "Non-trainable params: 0 (0.00 Byte)\n",
            "_________________________________________________________________\n"
          ]
        }
      ]
    },
    {
      "cell_type": "markdown",
      "source": [
        "#Calcutating Loss and Accuracy"
      ],
      "metadata": {
        "id": "woYhnbu41HhN"
      }
    },
    {
      "cell_type": "code",
      "source": [
        "model.fit(X,y,epochs=50)"
      ],
      "metadata": {
        "colab": {
          "base_uri": "https://localhost:8080/"
        },
        "id": "nFG6Es0QbMz2",
        "outputId": "9b15bfd5-f3a3-42c1-ff5f-7f5f23c609b8"
      },
      "execution_count": 21,
      "outputs": [
        {
          "output_type": "stream",
          "name": "stdout",
          "text": [
            "Epoch 1/50\n",
            "2660/2660 [==============================] - 129s 47ms/step - loss: 7.3141 - accuracy: 0.1033\n",
            "Epoch 2/50\n",
            "2660/2660 [==============================] - 84s 31ms/step - loss: 6.2248 - accuracy: 0.1582\n",
            "Epoch 3/50\n",
            "2660/2660 [==============================] - 81s 31ms/step - loss: 5.0561 - accuracy: 0.2148\n",
            "Epoch 4/50\n",
            "2660/2660 [==============================] - 82s 31ms/step - loss: 3.7191 - accuracy: 0.3255\n",
            "Epoch 5/50\n",
            "2660/2660 [==============================] - 80s 30ms/step - loss: 2.4913 - accuracy: 0.5067\n",
            "Epoch 6/50\n",
            "2660/2660 [==============================] - 80s 30ms/step - loss: 1.6034 - accuracy: 0.6751\n",
            "Epoch 7/50\n",
            "2660/2660 [==============================] - 79s 30ms/step - loss: 1.0110 - accuracy: 0.7980\n",
            "Epoch 8/50\n",
            "2660/2660 [==============================] - 79s 30ms/step - loss: 0.6425 - accuracy: 0.8771\n",
            "Epoch 9/50\n",
            "2660/2660 [==============================] - 80s 30ms/step - loss: 0.4323 - accuracy: 0.9208\n",
            "Epoch 10/50\n",
            "2660/2660 [==============================] - 78s 29ms/step - loss: 0.3178 - accuracy: 0.9428\n",
            "Epoch 11/50\n",
            "2660/2660 [==============================] - 79s 30ms/step - loss: 0.2617 - accuracy: 0.9531\n",
            "Epoch 12/50\n",
            "2660/2660 [==============================] - 79s 30ms/step - loss: 0.2361 - accuracy: 0.9557\n",
            "Epoch 13/50\n",
            "2660/2660 [==============================] - 78s 29ms/step - loss: 0.2247 - accuracy: 0.9568\n",
            "Epoch 14/50\n",
            "2660/2660 [==============================] - 79s 30ms/step - loss: 0.2066 - accuracy: 0.9599\n",
            "Epoch 15/50\n",
            "2660/2660 [==============================] - 79s 30ms/step - loss: 0.1995 - accuracy: 0.9609\n",
            "Epoch 16/50\n",
            "2660/2660 [==============================] - 79s 30ms/step - loss: 0.1987 - accuracy: 0.9601\n",
            "Epoch 17/50\n",
            "2660/2660 [==============================] - 79s 30ms/step - loss: 0.1895 - accuracy: 0.9615\n",
            "Epoch 18/50\n",
            "2660/2660 [==============================] - 79s 30ms/step - loss: 0.1857 - accuracy: 0.9618\n",
            "Epoch 19/50\n",
            "2660/2660 [==============================] - 78s 29ms/step - loss: 0.1802 - accuracy: 0.9635\n",
            "Epoch 20/50\n",
            "2660/2660 [==============================] - 79s 30ms/step - loss: 0.1795 - accuracy: 0.9623\n",
            "Epoch 21/50\n",
            "2660/2660 [==============================] - 79s 30ms/step - loss: 0.1790 - accuracy: 0.9618\n",
            "Epoch 22/50\n",
            "2660/2660 [==============================] - 78s 29ms/step - loss: 0.1731 - accuracy: 0.9631\n",
            "Epoch 23/50\n",
            "2660/2660 [==============================] - 79s 30ms/step - loss: 0.1792 - accuracy: 0.9610\n",
            "Epoch 24/50\n",
            "2660/2660 [==============================] - 80s 30ms/step - loss: 0.1733 - accuracy: 0.9623\n",
            "Epoch 25/50\n",
            "2660/2660 [==============================] - 79s 30ms/step - loss: 0.1682 - accuracy: 0.9637\n",
            "Epoch 26/50\n",
            "2660/2660 [==============================] - 80s 30ms/step - loss: 0.1716 - accuracy: 0.9625\n",
            "Epoch 27/50\n",
            "2660/2660 [==============================] - 79s 30ms/step - loss: 0.1721 - accuracy: 0.9619\n",
            "Epoch 28/50\n",
            "2660/2660 [==============================] - 79s 30ms/step - loss: 0.1644 - accuracy: 0.9639\n",
            "Epoch 29/50\n",
            "2660/2660 [==============================] - 78s 29ms/step - loss: 0.1748 - accuracy: 0.9604\n",
            "Epoch 30/50\n",
            "2660/2660 [==============================] - 79s 30ms/step - loss: 0.1671 - accuracy: 0.9627\n",
            "Epoch 31/50\n",
            "2660/2660 [==============================] - 79s 30ms/step - loss: 0.1680 - accuracy: 0.9619\n",
            "Epoch 32/50\n",
            "2660/2660 [==============================] - 78s 29ms/step - loss: 0.1729 - accuracy: 0.9610\n",
            "Epoch 33/50\n",
            "2660/2660 [==============================] - 79s 30ms/step - loss: 0.1663 - accuracy: 0.9619\n",
            "Epoch 34/50\n",
            "2660/2660 [==============================] - 79s 30ms/step - loss: 0.1685 - accuracy: 0.9605\n",
            "Epoch 35/50\n",
            "2660/2660 [==============================] - 78s 29ms/step - loss: 0.1698 - accuracy: 0.9609\n",
            "Epoch 36/50\n",
            "2660/2660 [==============================] - 79s 30ms/step - loss: 0.1677 - accuracy: 0.9613\n",
            "Epoch 37/50\n",
            "2660/2660 [==============================] - 78s 29ms/step - loss: 0.1662 - accuracy: 0.9615\n",
            "Epoch 38/50\n",
            "2660/2660 [==============================] - 78s 30ms/step - loss: 0.1678 - accuracy: 0.9610\n",
            "Epoch 39/50\n",
            "2660/2660 [==============================] - 79s 30ms/step - loss: 0.1640 - accuracy: 0.9618\n",
            "Epoch 40/50\n",
            "2660/2660 [==============================] - 79s 30ms/step - loss: 0.1720 - accuracy: 0.9596\n",
            "Epoch 41/50\n",
            "2660/2660 [==============================] - 79s 30ms/step - loss: 0.1676 - accuracy: 0.9608\n",
            "Epoch 42/50\n",
            "2660/2660 [==============================] - 79s 30ms/step - loss: 0.1671 - accuracy: 0.9604\n",
            "Epoch 43/50\n",
            "2660/2660 [==============================] - 80s 30ms/step - loss: 0.1613 - accuracy: 0.9623\n",
            "Epoch 44/50\n",
            "2660/2660 [==============================] - 80s 30ms/step - loss: 0.1668 - accuracy: 0.9600\n",
            "Epoch 45/50\n",
            "2660/2660 [==============================] - 79s 30ms/step - loss: 0.1691 - accuracy: 0.9594\n",
            "Epoch 46/50\n",
            "2660/2660 [==============================] - 79s 30ms/step - loss: 0.1743 - accuracy: 0.9585\n",
            "Epoch 47/50\n",
            "2660/2660 [==============================] - 79s 30ms/step - loss: 0.1661 - accuracy: 0.9602\n",
            "Epoch 48/50\n",
            "2660/2660 [==============================] - 80s 30ms/step - loss: 0.1661 - accuracy: 0.9599\n",
            "Epoch 49/50\n",
            "2660/2660 [==============================] - 79s 30ms/step - loss: 0.1698 - accuracy: 0.9592\n",
            "Epoch 50/50\n",
            "2660/2660 [==============================] - 79s 30ms/step - loss: 0.1790 - accuracy: 0.9568\n"
          ]
        },
        {
          "output_type": "execute_result",
          "data": {
            "text/plain": [
              "<keras.src.callbacks.History at 0x7cf4e046b8b0>"
            ]
          },
          "metadata": {},
          "execution_count": 21
        }
      ]
    },
    {
      "cell_type": "markdown",
      "source": [
        "#Random portion from Dataset"
      ],
      "metadata": {
        "id": "qOaRUBUN05ty"
      }
    },
    {
      "cell_type": "code",
      "source": [
        "                                                            # RANDOM TEXT FROM THE TRAIN DATASET(Small portion)\n",
        "\n",
        "\n",
        "#A music video to accompany the release of \"Supernova\" was first released onto YouTube on December 27, 2012 at a total length of three minutes and fifty-five seconds.\n",
        "#As of 2011, some touchscreen-based operating systems such as Apple's iOS (iPhone) and Android use the class of GUIs named post-WIMP the Premier of Punjab in colonial\n",
        "#India, advocated for amity between the religious communities of undivided India, proclaiming March 1 as Communal Harmony Day and aiding in the establishment of a\n",
        "#Communal Harmony Committee in Lahore, in which Raja Narendra Nath served as president and Maulvi Mahomed Ilyas as secretary.\n",
        "#In the same vein, Kashmiri Indian politician and Supreme Court judge Markandey Katju wrote\n",
        "#usi's three sons, Bronson, Corbin, and Devin all played college football for the BYU Cougars, with Bronson and Corbin both having played for the BYU basketball team\n",
        "# as well. His wife, Michelle Kaufusi is currently mayor of Provo, Utah.\n",
        "# Since then, Pilafian performed numerous times in international concerts and recordings. He founded the Empire Brass and performed in the Broadway Musicals Doctor\n",
        "#Jazz and Much Ado About Nothing. He also played with Boston Brass from 2013-2019\n",
        "# Pilafian started teaching at Arizona State University in 1994 and later at North Dakota State University in 2017. Among his notable students is Marcus Rojas.\n",
        "# Hans-Werner Bothe (born 23 September 1952 in Langelsheim, near Goslar) is a German philosopher and neurosurgeon. Bothe is founder of the recent field of research\n",
        "# on Neurobionics.\n",
        "# Bothe initiated and organized the 1st International Workshop on Neurobionics in 1992 and founded thereby the recent field of research on Neurobionics, which aims\n",
        "# at substitution of impaired functions of brain and spinal cord by neurosurgical implantation of microelectronic systems. For that purpose, he brought together an\n",
        "# international consortium of scientists covering for mathematics, neuroinformatics, biological basic research, microsystems, and medicine.\n",
        "# In 1991 he launched the International Neurobionics Foundation together with Daniel Goeudevert, Madjid Samii, and other representatives of science, industry, and\n",
        "# policy. From 1991 until 1995 he managed the foundation as executive director of the board. He developed microelectronic implants to treat blind patients suffering\n",
        "#from damaged retina (with B. Fischer, J.W. Bartha, et al.), microelectronic therapy to manage urinary incontinence (with B. von Heyden), and paraplegia\n",
        "#(with J. Holsheimer).\n",
        "# Tiffany is a town in Dunn County, Wisconsin, United States. The population was 633 at the 2000 census.  The villages of Boyceville and Downing are located within\n",
        "#the town.\n",
        "# As of the census of 2000, there were 633 people, 230 households, and 177 families residing in the town. The population density was 21.1 people per square mile\n",
        "#(8.2/km2). There were 239 housing units at an average density of 8.0 per square mile (3.1/km2). The racial makeup of the town was 99.53% White, and 0.47% from two\n",
        "# or more races. Hispanic or Latino of any race were 1.26% of the population.\n",
        "# There were 230 households, out of which 38.3% had children under the age of 18 living with them, 67.0% were married couples living together, 5.7% had a female\n",
        "# householder with no husband present, and 23.0% were non-families. 16.5% of all households were made up of individuals, and 6.5% had someone living alone who was\n",
        "# 65 years of age or older. The average household size was 2.75 and the average family size was 3.10.\n",
        "# In the town, the population was spread out, with 27.8% under the age of 18, 8.8% from 18 to 24, 26.5% from 25 to 44, 25.9% from 45 to 64, and 10.9% who were 65\n",
        "# years of age or older. The median age was 37 years. For every 100 females, there were 110.3 males. For every 100 females age 18 and over, there were 109.6 males.\n",
        "# The median income for a household in the town was $38,750, and the median income for a family was $42,750. Males had a median income of $31,500 versus $21,023 for\n",
        "# females. The per capita income for the town was $18,203. About 12.9% of families and 10.4% of the population were below the poverty line, including 15.0% of those\n",
        "# under age 18 and none of those age 65 or over.\n",
        "# With his brother Giovanni Tegano, he is considered to be the boss of the Tegano 'ndrina.[citation needed] The clan hails from the Archi neighbourhood in the city\n",
        "# of Reggio Calabria. He has been sentenced to life imprisonment for murder, extortion and mafia association.\n",
        "# The Tegano clan sided with the De Stefano clan in the Second 'Ndrangheta war, which raged from 1985 to 1991. The alliance was sealed by the marriage between Orazio\n",
        "# De Stefano and Antonietta Benestare, a niece of Giovanni Tegano on December 2, 1985. The bloody six-year war between the Condello-Imerti clan and De Stefano allied\n",
        "# with the Tegano clan left 621 deaths.\n",
        "# While the main leaders of De Stefano clan were killed it fell upon the Teganos to wage the war. The Teganos were the key negotiators for the 'pax mafiosa' in Reggio\n",
        "# Calabria in the 1990s between the Tegano, De Stefano, Libri and Latella clans on one side and the Imerti, Serraino, Condello and Rosmini clans on the other, in\n",
        "# which they divided their spheres of influence in Reggio Calabria.\n",
        "# He became a fugitive in 1994, and was arrested on August 6, 2004. At that time, differences between the Tegano clan and the De Stefanos emerged over the division\n",
        "# of extortion rackets.[citation needed] The Teganos secured the neutrality of their old enemy Pasquale Condello.\n",
        "# After sitting out a season, Andy Kaufmann returned for the 1992-93 campaign and helped lead Illinois to a 19-13 record and trip to the NCAA Tournament.\n",
        "# Alexander Duncan McEachern (born September 27, 1939) is a former provincial level politician from Alberta, Canada. He served as a member of the Legislative Assembly\n",
        "# of Alberta from 1986 to 1993.\n",
        "# McEachern ran for political office for the first time in the 1975 Alberta general election. He ran in the electoral district of Edmonton-Glenora as a candidate for\n",
        "# the New Democrats but was badly defeated by incumbent cabinet minister Lou Hyndman.\n",
        "# He made a second attempt to run for office in the 1979 general election in the Edmonton-Kingsway electoral district. This time he finished second to incumbent\n",
        "# Progressive Conservative MLA Kenneth Paproski. He attempted a third run for office in the 1982 Alberta general election with another second-place finish slightly\n",
        "#improving his vote total to Progressive Conservative candidate Carl Paproski.\n",
        "# McEachern is still active with the Alberta New Democrats serving as the President of the Lesser Slave Lake electoral district.\n",
        "# David Gary Holdsworth (born 8 November 1968) is an English former professional footballer turned manager.\n",
        "\n",
        "\n",
        "#------------------------------------------------------------- RANDOM SAMPLE TEXT END----------------------------------------------------------------------------------------------------------------------------------------------------------------------------------------------------------------------------------------------------------------------------------------------------------------------------------------------------------------------------\n",
        "\n"
      ],
      "metadata": {
        "id": "bi41pbN5zpyX"
      },
      "execution_count": null,
      "outputs": []
    },
    {
      "cell_type": "markdown",
      "source": [
        "#LOOP FOR DETECTING NEXT WORD WITH DELAY (1-SEC)."
      ],
      "metadata": {
        "id": "sdJKUH5H0lns"
      }
    },
    {
      "cell_type": "code",
      "source": [
        "import time\n",
        "text = \"Bothe initiated and organized the 1st\"\n",
        "                                                                    # SAMPLE TEST-CASE: 1\n",
        "\n",
        "# Bothe initiated and organized the 1st International Workshop on Neurobionics in 1992 and founded thereby the recent field of research on Neurobionics, which aims\n",
        "# at substitution of impaired functions of brain and spinal cord by neurosurgical implantation of microelectronic systems. For that purpose, he brought together an\n",
        "# international consortium of scientists covering for mathematics, neuroinformatics, biological basic research, microsystems, and medicine.\n",
        "\n",
        "\n",
        "\n",
        "for i in range(15):\n",
        "  # tokenize\n",
        "  token_text = tokenizer.texts_to_sequences([text])[0]\n",
        "  # padding\n",
        "  padded_token_text = pad_sequences([token_text], maxlen=97, padding='pre')\n",
        "  # predict\n",
        "  pos = np.argmax(model.predict(padded_token_text))\n",
        "\n",
        "  for word,index in tokenizer.word_index.items():\n",
        "    if index == pos:\n",
        "      text = text + \" \" + word\n",
        "      print(text)\n",
        "      time.sleep(1)"
      ],
      "metadata": {
        "colab": {
          "base_uri": "https://localhost:8080/"
        },
        "id": "O7kN891KbVov",
        "outputId": "2dae5653-d8c2-4084-8a9a-287904e25d12"
      },
      "execution_count": 48,
      "outputs": [
        {
          "output_type": "stream",
          "name": "stdout",
          "text": [
            "1/1 [==============================] - 0s 20ms/step\n",
            "Bothe initiated and organized the 1st international\n",
            "1/1 [==============================] - 0s 20ms/step\n",
            "Bothe initiated and organized the 1st international workshop\n",
            "1/1 [==============================] - 0s 25ms/step\n",
            "Bothe initiated and organized the 1st international workshop on\n",
            "1/1 [==============================] - 0s 30ms/step\n",
            "Bothe initiated and organized the 1st international workshop on neurobionics\n",
            "1/1 [==============================] - 0s 18ms/step\n",
            "Bothe initiated and organized the 1st international workshop on neurobionics in\n",
            "1/1 [==============================] - 0s 18ms/step\n",
            "Bothe initiated and organized the 1st international workshop on neurobionics in 1992\n",
            "1/1 [==============================] - 0s 17ms/step\n",
            "Bothe initiated and organized the 1st international workshop on neurobionics in 1992 and\n",
            "1/1 [==============================] - 0s 18ms/step\n",
            "Bothe initiated and organized the 1st international workshop on neurobionics in 1992 and founded\n",
            "1/1 [==============================] - 0s 19ms/step\n",
            "Bothe initiated and organized the 1st international workshop on neurobionics in 1992 and founded thereby\n",
            "1/1 [==============================] - 0s 18ms/step\n",
            "Bothe initiated and organized the 1st international workshop on neurobionics in 1992 and founded thereby the\n",
            "1/1 [==============================] - 0s 22ms/step\n",
            "Bothe initiated and organized the 1st international workshop on neurobionics in 1992 and founded thereby the recent\n",
            "1/1 [==============================] - 0s 19ms/step\n",
            "Bothe initiated and organized the 1st international workshop on neurobionics in 1992 and founded thereby the recent field\n",
            "1/1 [==============================] - 0s 19ms/step\n",
            "Bothe initiated and organized the 1st international workshop on neurobionics in 1992 and founded thereby the recent field of\n",
            "1/1 [==============================] - 0s 29ms/step\n",
            "Bothe initiated and organized the 1st international workshop on neurobionics in 1992 and founded thereby the recent field of the\n",
            "1/1 [==============================] - 0s 29ms/step\n",
            "Bothe initiated and organized the 1st international workshop on neurobionics in 1992 and founded thereby the recent field of the research\n"
          ]
        }
      ]
    },
    {
      "cell_type": "markdown",
      "source": [
        "#                                                           THANKS YOU"
      ],
      "metadata": {
        "id": "l9Uy905o9YKe"
      }
    },
    {
      "cell_type": "code",
      "source": [
        "Bothe initiated and organized the 1st International Workshop on Neurobionics in 1992 and founded thereby the recent field of research on Neurobionics, which aims\n",
        "# at substitution of impaired functions of brain and spinal"
      ],
      "metadata": {
        "id": "Eq8zK7KkwVhj"
      },
      "execution_count": null,
      "outputs": []
    }
  ]
}